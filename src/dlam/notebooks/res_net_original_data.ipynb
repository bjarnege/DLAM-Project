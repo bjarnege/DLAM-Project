{
 "cells": [
  {
   "cell_type": "code",
   "execution_count": 12,
   "metadata": {},
   "outputs": [],
   "source": [
    "from dlam.data.dataset import load_concat_dataset\n",
    "from dlam.resnet.resnet import ResNet50\n",
    "import torch\n",
    "import torch.nn as nn\n",
    "import torch.optim as optim\n",
    "from tqdm import tqdm\n",
    "from sklearn.metrics import classification_report\n",
    "import pickle\n",
    "import matplotlib.pyplot as plt\n"
   ]
  },
  {
   "cell_type": "code",
   "execution_count": null,
   "metadata": {},
   "outputs": [],
   "source": [
    "device = torch.device('cuda' if torch.cuda.is_available() else 'cpu')\n",
    "\n",
    "train_dataclass = load_concat_dataset(\"train\",transform=True, device=device)\n",
    "test_dataclass = load_concat_dataset(\"test\", transform=True, device=device)\n",
    "\n",
    "trainloader = torch.utils.data.DataLoader([(X, y) for X, y in zip(train_dataclass[\"imgs\"].unsqueeze(1), train_dataclass[\"labels\"])], batch_size=256, shuffle=True)\n",
    "testloader = torch.utils.data.DataLoader([(X, y) for X, y  in zip(test_dataclass[\"imgs\"].unsqueeze(1), test_dataclass[\"labels\"])], batch_size=256,shuffle=False)"
   ]
  },
  {
   "cell_type": "code",
   "execution_count": null,
   "metadata": {},
   "outputs": [],
   "source": [
    "num_classes = len(train_dataclass[\"infos\"][0][\"label\"])\n",
    "classes = list(train_dataclass[\"infos\"][0][\"label\"].values())\n",
    "model = ResNet50(num_classes=num_classes, channels=1).double().to(device)"
   ]
  },
  {
   "cell_type": "code",
   "execution_count": null,
   "metadata": {},
   "outputs": [],
   "source": [
    "criterion = nn.CrossEntropyLoss().to(device)\n",
    "optimizer = optim.Adam(model.parameters(), lr=0.05)\n",
    "scheduler = optim.lr_scheduler.StepLR(optimizer, step_size=15, gamma=0.5, last_epoch=-1, verbose=False)\n"
   ]
  },
  {
   "cell_type": "code",
   "execution_count": null,
   "metadata": {},
   "outputs": [],
   "source": [
    "def training(dataloader, device, model, criterion, scheduler):\n",
    "    model.train()\n",
    "    losses = []\n",
    "    running_loss = 0\n",
    "    \n",
    "    pbar = tqdm(dataloader, unit=\"batch\", desc=\"Training\")\n",
    "    for inputs, labels in pbar:\n",
    "        inputs, labels = inputs.to(device), labels.view(-1).type(torch.LongTensor).to(device)\n",
    "        optimizer.zero_grad()\n",
    "    \n",
    "        outputs = model(inputs)\n",
    "        loss = criterion(outputs, labels)\n",
    "        losses.append(loss.item())\n",
    "\n",
    "        loss.backward()\n",
    "        optimizer.step()\n",
    "        \n",
    "        running_loss += loss.item()\n",
    " \n",
    "    avg_loss = sum(losses)/len(losses)\n",
    "    scheduler.step()   \n",
    "\n",
    "    return model, scheduler, avg_loss\n",
    "\n",
    "def classify_dataloader(dataloader, device, model):\n",
    "    model.eval()\n",
    "    y_pred = []\n",
    "    y_true = []\n",
    "    losses = []\n",
    "    running_loss = 0\n",
    "    pbar = tqdm(dataloader, unit=\"batch\", desc=\"Evaluating\")\n",
    "\n",
    "    with torch.no_grad():\n",
    "\n",
    "        for inputs, labels in pbar:\n",
    "            inputs, labels = inputs.to(device), labels.view(-1).type(torch.LongTensor).to(device)\n",
    "            optimizer.zero_grad()\n",
    "            \n",
    "            outputs = model(inputs)\n",
    "\n",
    "            labels_predicted = outputs.argmax(1)\n",
    "            for prediction, label in zip(labels_predicted, labels):\n",
    "                y_pred.append(int(prediction))\n",
    "                y_true.append(int(label))\n",
    "            \n",
    "            loss = criterion(outputs, labels)\n",
    "            losses.append(loss.item())\n",
    "            \n",
    "            running_loss += loss.item()\n",
    "    \n",
    "    avg_loss = sum(losses)/len(losses)\n",
    "    report = classification_report(y_true, y_pred, target_names=classes)\n",
    "    print(report)\n",
    "    return y_true, y_pred, avg_loss, report"
   ]
  },
  {
   "cell_type": "code",
   "execution_count": 6,
   "metadata": {},
   "outputs": [
    {
     "name": "stderr",
     "output_type": "stream",
     "text": [
      "Training:  16%|█▌        | 39/241 [00:41<03:33,  1.06s/batch]\n"
     ]
    },
    {
     "ename": "KeyboardInterrupt",
     "evalue": "",
     "output_type": "error",
     "traceback": [
      "\u001b[0;31m---------------------------------------------------------------------------\u001b[0m",
      "\u001b[0;31mKeyboardInterrupt\u001b[0m                         Traceback (most recent call last)",
      "Cell \u001b[0;32mIn[6], line 9\u001b[0m\n\u001b[1;32m      2\u001b[0m losses \u001b[39m=\u001b[39m {\u001b[39m\"\u001b[39m\u001b[39mtrain_loss\u001b[39m\u001b[39m\"\u001b[39m: [],\n\u001b[1;32m      3\u001b[0m           \u001b[39m\"\u001b[39m\u001b[39mtest_loss\u001b[39m\u001b[39m\"\u001b[39m: [],\n\u001b[1;32m      4\u001b[0m           \u001b[39m\"\u001b[39m\u001b[39mtest_predictions\u001b[39m\u001b[39m\"\u001b[39m: [],\n\u001b[1;32m      5\u001b[0m           \u001b[39m\"\u001b[39m\u001b[39mtest_report\u001b[39m\u001b[39m\"\u001b[39m: [],\n\u001b[1;32m      6\u001b[0m           \u001b[39m\"\u001b[39m\u001b[39mmodel_path\u001b[39m\u001b[39m\"\u001b[39m: []}\n\u001b[1;32m      8\u001b[0m \u001b[39mfor\u001b[39;00m epoch \u001b[39min\u001b[39;00m \u001b[39mrange\u001b[39m(\u001b[39m1\u001b[39m, EPOCHS\u001b[39m+\u001b[39m\u001b[39m1\u001b[39m):\n\u001b[0;32m----> 9\u001b[0m     model, scheduler, avg_loss_train \u001b[39m=\u001b[39m training(trainloader, device, model, criterion, scheduler)\n\u001b[1;32m     10\u001b[0m     y_true, y_pred, avg_loss_test, report \u001b[39m=\u001b[39m classify_dataloader(testloader, device, model)\n\u001b[1;32m     11\u001b[0m     losses[\u001b[39m\"\u001b[39m\u001b[39mtrain_loss\u001b[39m\u001b[39m\"\u001b[39m]\u001b[39m.\u001b[39mappend(avg_loss_train)\n",
      "Cell \u001b[0;32mIn[5], line 18\u001b[0m, in \u001b[0;36mtraining\u001b[0;34m(dataloader, device, model, criterion, scheduler)\u001b[0m\n\u001b[1;32m     15\u001b[0m     loss\u001b[39m.\u001b[39mbackward()\n\u001b[1;32m     16\u001b[0m     optimizer\u001b[39m.\u001b[39mstep()\n\u001b[0;32m---> 18\u001b[0m     running_loss \u001b[39m+\u001b[39m\u001b[39m=\u001b[39m loss\u001b[39m.\u001b[39;49mitem()\n\u001b[1;32m     20\u001b[0m avg_loss \u001b[39m=\u001b[39m \u001b[39msum\u001b[39m(losses)\u001b[39m/\u001b[39m\u001b[39mlen\u001b[39m(losses)\n\u001b[1;32m     21\u001b[0m scheduler\u001b[39m.\u001b[39mstep()   \n",
      "\u001b[0;31mKeyboardInterrupt\u001b[0m: "
     ]
    }
   ],
   "source": [
    "EPOCHS = 100\n",
    "losses = {\"train_loss\": [],\n",
    "          \"test_loss\": [],\n",
    "          \"test_predictions\": [],\n",
    "          \"test_report\": [],\n",
    "          \"model_path\": []}\n",
    "\n",
    "for epoch in range(1, EPOCHS+1):\n",
    "    model, scheduler, avg_loss_train = training(trainloader, device, model, criterion, scheduler)\n",
    "    y_true, y_pred, avg_loss_test, report = classify_dataloader(testloader, device, model)\n",
    "    losses[\"train_loss\"].append(avg_loss_train)\n",
    "    losses[\"test_loss\"].append(avg_loss_test)\n",
    "    losses[\"test_predictions\"].append(y_pred)\n",
    "    losses[\"test_report\"].append(report)\n",
    "    model_path = f\"../../../models/ResNet50original_epoch_{epoch}\"\n",
    "    losses[\"model_path\"].append(model_path)\n",
    "\n",
    "    torch.save(model, model_path)\n",
    "    # Save the losses dictionary\n",
    "    with open(\"../../../models/losses.pkl\", \"wb\") as f:\n",
    "        pickle.dump(losses, f)    \n",
    "\n",
    "print('Training Done')"
   ]
  },
  {
   "cell_type": "code",
   "execution_count": 7,
   "metadata": {},
   "outputs": [],
   "source": [
    "file = open(\"../../../models/losses.pkl\", \"rb\")\n",
    "losses = pickle.load(file)\n",
    "\n",
    "\n"
   ]
  },
  {
   "cell_type": "code",
   "execution_count": 14,
   "metadata": {},
   "outputs": [
    {
     "data": {
      "text/plain": [
       "[2.8186249308679225,\n",
       " 1.1586793814357985,\n",
       " 0.8126980153152824,\n",
       " 0.6474565250271626,\n",
       " 0.5125550508597647,\n",
       " 0.4119342102865587,\n",
       " 0.36190475556225216,\n",
       " 0.28946099745695386,\n",
       " 10.578070451517936,\n",
       " 3.385898086384613,\n",
       " 1.4443585766464713,\n",
       " 1.93382256894071,\n",
       " 1.1354580148014506,\n",
       " 1.0431920883346322,\n",
       " 0.9264023335137376,\n",
       " 0.8129582457993793,\n",
       " 0.763007980287366,\n",
       " 0.7181682641924453]"
      ]
     },
     "execution_count": 14,
     "metadata": {},
     "output_type": "execute_result"
    }
   ],
   "source": [
    "losses['train_loss']"
   ]
  },
  {
   "cell_type": "code",
   "execution_count": 15,
   "metadata": {},
   "outputs": [
    {
     "data": {
      "text/plain": [
       "[1.593953480855441,\n",
       " 1.1532063944695028,\n",
       " 1.1174661793095402,\n",
       " 1.0424337996064699,\n",
       " 0.9001424162642045,\n",
       " 1.2953934821119786,\n",
       " 0.8296834311419726,\n",
       " 0.9310300744963255,\n",
       " 527036.2191761029,\n",
       " 4.862228636733877,\n",
       " 16.544078532792646,\n",
       " 3.3053220779832317,\n",
       " 2.8783504729380938,\n",
       " 3.379891452001763,\n",
       " 3.1364016413938733,\n",
       " 2.5003439449723417,\n",
       " 2.2642293481998124,\n",
       " 2.2279974321243183]"
      ]
     },
     "execution_count": 15,
     "metadata": {},
     "output_type": "execute_result"
    }
   ],
   "source": [
    "losses['test_loss']"
   ]
  },
  {
   "cell_type": "code",
   "execution_count": 13,
   "metadata": {},
   "outputs": [
    {
     "data": {
      "image/png": "[encoded data removed]",
      "text/plain": [
       "<Figure size 640x480 with 1 Axes>"
      ]
     },
     "metadata": {},
     "output_type": "display_data"
    }
   ],
   "source": [
    "# Create x-axis values (epochs)\n",
    "epochs = range(1, len(losses['train_loss']) + 1)\n",
    "\n",
    "# Plot train and test losses\n",
    "plt.plot(epochs, losses['train_loss'], label='Train Loss')\n",
    "plt.plot(epochs, losses['test_loss'], label='Test Loss')\n",
    "\n",
    "\n",
    "# Add labels and title\n",
    "plt.xlabel('Epochs')\n",
    "plt.ylabel('Loss')\n",
    "plt.title('Train and Test Losses')\n",
    "plt.legend()\n",
    "\n",
    "# Show the plot\n",
    "plt.show()"
   ]
  }
 ],
 "metadata": {
  "kernelspec": {
   "display_name": ".venv",
   "language": "python",
   "name": "python3"
  },
  "language_info": {
   "codemirror_mode": {
    "name": "ipython",
    "version": 3
   },
   "file_extension": ".py",
   "mimetype": "text/x-python",
   "name": "python",
   "nbconvert_exporter": "python",
   "pygments_lexer": "ipython3",
   "version": "3.10.9"
  },
  "orig_nbformat": 4
 },
 "nbformat": 4,
 "nbformat_minor": 2
}
