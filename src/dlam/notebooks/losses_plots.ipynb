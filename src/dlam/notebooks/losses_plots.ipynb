{
  "nbformat": 4,
  "nbformat_minor": 0,
  "metadata": {
    "colab": {
      "provenance": []
    },
    "kernelspec": {
      "name": "python3",
      "display_name": "Python 3"
    },
    "language_info": {
      "name": "python"
    }
  },
  "cells": [
    {
      "cell_type": "code",
      "execution_count": null,
      "metadata": {
        "colab": {
          "base_uri": "https://localhost:8080/"
        },
        "id": "FZlm3Gwa-IYo",
        "outputId": "a7e487f5-52a8-4a6c-b9f0-0503680f232b"
      },
      "outputs": [
        {
          "output_type": "stream",
          "name": "stdout",
          "text": [
            "Mounted at /content/drive/\n"
          ]
        }
      ],
      "source": [
        "from google.colab import drive\n",
        "from IPython.display import clear_output\n",
        "import pickle\n",
        "\n",
        "drive.mount('/content/drive/')"
      ]
    },
    {
      "cell_type": "code",
      "source": [
        "model_store_path = \"/content/drive/MyDrive/DLAM/DLAM-Project/models/\""
      ],
      "metadata": {
        "id": "RQS7hK2j-WsE"
      },
      "execution_count": null,
      "outputs": []
    },
    {
      "cell_type": "code",
      "source": [
        "file = open(f\"{model_store_path}losses_fake.pkl\", \"rb\")\n",
        "losses_fake = pickle.load(file)"
      ],
      "metadata": {
        "id": "9PTKqA67-M56"
      },
      "execution_count": null,
      "outputs": []
    },
    {
      "cell_type": "code",
      "source": [
        "file = open(f\"{model_store_path}losses_original.pkl\", \"rb\")\n",
        "losses_original = pickle.load(file)"
      ],
      "metadata": {
        "id": "VtN1fCBW-VzK"
      },
      "execution_count": null,
      "outputs": []
    },
    {
      "cell_type": "code",
      "source": [
        "# import plotly.express as px\n",
        "# import pandas as pd\n",
        "\n",
        "# data = {\n",
        "#     \"Epoch\": list(range(1, 11)),\n",
        "#     \"Original Train Loss\": losses_original[\"train_loss\"],\n",
        "#     \"Original Test Loss\": losses_original[\"test_loss\"],\n",
        "#     \"Fake Train Loss\": losses_fake[\"train_loss\"],\n",
        "#     \"Fake Test Loss\": losses_fake[\"test_loss\"]\n",
        "# }\n",
        "\n",
        "# df = pd.DataFrame(data)\n",
        "\n",
        "# fig = px.line(df, x=\"Epoch\", y=[\"Original Train Loss\", \"Original Test Loss\", \"Fake Train Loss\", \"Fake Test Loss\"],\n",
        "#               labels={\"value\": \"Loss\", \"variable\": \"Loss Type\"},\n",
        "#               title=\"Avg. Cross Entropy Loss Comparison: Original vs. Fake Dataset\",\n",
        "#               color_discrete_map={\"Original Train Loss\": \"blue\", \"Original Test Loss\": \"green\",\n",
        "#                                   \"Fake Train Loss\": \"red\", \"Fake Test Loss\": \"orange\"})\n",
        "\n",
        "# fig.update_layout(title_font_size=24, title_x=0.5)  # Adjust the title font size and center it\n",
        "\n",
        "# fig.show()\n",
        "\n",
        "import plotly.subplots as sp\n",
        "import plotly.graph_objs as go\n",
        "import pandas as pd\n",
        "\n",
        "data = {\n",
        "    \"Epoch\": list(range(1, 11)),\n",
        "    \"Original Train Loss\": losses_original[\"train_loss\"],\n",
        "    \"Original Test Loss\": losses_original[\"test_loss\"],\n",
        "    \"Fake Train Loss\": losses_fake[\"train_loss\"],\n",
        "    \"Fake Test Loss\": losses_fake[\"test_loss\"]\n",
        "}\n",
        "\n",
        "df = pd.DataFrame(data)\n",
        "\n",
        "# Create subplots with 1 row and 2 columns\n",
        "fig = sp.make_subplots(rows=1, cols=2, subplot_titles=[\"Original Dataset\", \"Fake Dataset\"])\n",
        "\n",
        "# Add original train loss line plot to the first subplot\n",
        "fig.add_trace(go.Scatter(x=df[\"Epoch\"], y=df[\"Original Train Loss\"], mode='lines', name='Train Loss'),\n",
        "              row=1, col=1)\n",
        "# Add original test loss line plot to the first subplot\n",
        "fig.add_trace(go.Scatter(x=df[\"Epoch\"], y=df[\"Original Test Loss\"], mode='lines', name='Test Loss'),\n",
        "              row=1, col=1)\n",
        "\n",
        "# Update subplot titles, axis labels, and layout\n",
        "fig.update_layout(title_text=\"Avg. Cross Entropy Loss Comparison: Original vs. Fake Dataset\",\n",
        "                  title_font_size=24,\n",
        "                  title_x=0.5,\n",
        "                  xaxis_title=\"Epoch\",\n",
        "                  yaxis_title=\"Loss\",\n",
        "                  showlegend=True)\n",
        "\n",
        "# Add fake train loss line plot to the second subplot\n",
        "fig.add_trace(go.Scatter(x=df[\"Epoch\"], y=df[\"Fake Train Loss\"], mode='lines', name='Train Loss'),\n",
        "              row=1, col=2)\n",
        "# Add fake test loss line plot to the second subplot\n",
        "fig.add_trace(go.Scatter(x=df[\"Epoch\"], y=df[\"Fake Test Loss\"], mode='lines', name='Test Loss'),\n",
        "              row=1, col=2)\n",
        "\n",
        "# Update subplot titles, axis labels, and layout\n",
        "fig.update_layout(title_text=\"Avg. Cross Entropy Loss Comparison: Original vs. Fake Dataset\",\n",
        "                  title_font_size=24,\n",
        "                  title_x=0.5,\n",
        "                  xaxis_title=\"Epoch\",\n",
        "                  yaxis_title=\"Loss\",\n",
        "                  showlegend=True)\n",
        "\n",
        "# Show the plot\n",
        "fig.show()\n"
      ],
      "metadata": {
        "colab": {
          "base_uri": "https://localhost:8080/",
          "height": 542
        },
        "id": "eic34ymQ_Sd5",
        "outputId": "05f9e715-b038-4853-9436-33b77c6eff19"
      },
      "execution_count": null,
      "outputs": [
        {
          "output_type": "display_data",
          "data": {
            "text/html": [
              "<html>\n",
              "<head><meta charset=\"utf-8\" /></head>\n",
              "<body>\n",
              "    <div>            <script src=\"https://cdnjs.cloudflare.com/ajax/libs/mathjax/2.7.5/MathJax.js?config=TeX-AMS-MML_SVG\"></script><script type=\"text/javascript\">if (window.MathJax && window.MathJax.Hub && window.MathJax.Hub.Config) {window.MathJax.Hub.Config({SVG: {font: \"STIX-Web\"}});}</script>                <script type=\"text/javascript\">window.PlotlyConfig = {MathJaxConfig: 'local'};</script>\n",
              "        <script charset=\"utf-8\" src=\"https://cdn.plot.ly/plotly-2.24.1.min.js\"></script>                <div id=\"41f708de-0eeb-4798-a0ea-3c06e4f1a1d1\" class=\"plotly-graph-div\" style=\"height:525px; width:100%;\"></div>            <script type=\"text/javascript\">                                    window.PLOTLYENV=window.PLOTLYENV || {};                                    if (document.getElementById(\"41f708de-0eeb-4798-a0ea-3c06e4f1a1d1\")) {                    Plotly.newPlot(                        \"41f708de-0eeb-4798-a0ea-3c06e4f1a1d1\",                        [{\"mode\":\"lines\",\"name\":\"Train Loss\",\"x\":[1,2,3,4,5,6,7,8,9,10],\"y\":[0.44897137779523344,0.1089059540125377,0.0842091265367344,0.0621468484716709,0.05847540697055485,0.034881574511767696,0.033639315754579215,0.004288615992824335,0.0033351585899414633,0.008835552429766668],\"type\":\"scatter\",\"xaxis\":\"x\",\"yaxis\":\"y\"},{\"mode\":\"lines\",\"name\":\"Test Loss\",\"x\":[1,2,3,4,5,6,7,8,9,10],\"y\":[0.562724969642503,0.6182711622544698,0.5745598056486675,0.6552222324269158,0.5523789490972246,0.5969556723322187,0.4863405576774052,0.5707283922604152,0.603880791578974,0.6223685766969408],\"type\":\"scatter\",\"xaxis\":\"x\",\"yaxis\":\"y\"},{\"mode\":\"lines\",\"name\":\"Train Loss\",\"x\":[1,2,3,4,5,6,7,8,9,10],\"y\":[0.055288338617091815,1.1435317473178446e-05,4.851167180509778e-06,3.4773202929859824e-06,2.226996466719737e-06,1.7959621567739346e-06,1.505725597167458e-06,1.327286456222113e-06,1.1692864565337766e-06,1.0801485124835212e-06],\"type\":\"scatter\",\"xaxis\":\"x2\",\"yaxis\":\"y2\"},{\"mode\":\"lines\",\"name\":\"Test Loss\",\"x\":[1,2,3,4,5,6,7,8,9,10],\"y\":[22.198487772260393,21.224045426504954,21.610097449166435,20.45663501194545,20.697312109810966,21.434550176348004,22.926162937709265,20.522957611083985,21.554661178588866,22.694471059526716],\"type\":\"scatter\",\"xaxis\":\"x2\",\"yaxis\":\"y2\"}],                        {\"template\":{\"data\":{\"histogram2dcontour\":[{\"type\":\"histogram2dcontour\",\"colorbar\":{\"outlinewidth\":0,\"ticks\":\"\"},\"colorscale\":[[0.0,\"#0d0887\"],[0.1111111111111111,\"#46039f\"],[0.2222222222222222,\"#7201a8\"],[0.3333333333333333,\"#9c179e\"],[0.4444444444444444,\"#bd3786\"],[0.5555555555555556,\"#d8576b\"],[0.6666666666666666,\"#ed7953\"],[0.7777777777777778,\"#fb9f3a\"],[0.8888888888888888,\"#fdca26\"],[1.0,\"#f0f921\"]]}],\"choropleth\":[{\"type\":\"choropleth\",\"colorbar\":{\"outlinewidth\":0,\"ticks\":\"\"}}],\"histogram2d\":[{\"type\":\"histogram2d\",\"colorbar\":{\"outlinewidth\":0,\"ticks\":\"\"},\"colorscale\":[[0.0,\"#0d0887\"],[0.1111111111111111,\"#46039f\"],[0.2222222222222222,\"#7201a8\"],[0.3333333333333333,\"#9c179e\"],[0.4444444444444444,\"#bd3786\"],[0.5555555555555556,\"#d8576b\"],[0.6666666666666666,\"#ed7953\"],[0.7777777777777778,\"#fb9f3a\"],[0.8888888888888888,\"#fdca26\"],[1.0,\"#f0f921\"]]}],\"heatmap\":[{\"type\":\"heatmap\",\"colorbar\":{\"outlinewidth\":0,\"ticks\":\"\"},\"colorscale\":[[0.0,\"#0d0887\"],[0.1111111111111111,\"#46039f\"],[0.2222222222222222,\"#7201a8\"],[0.3333333333333333,\"#9c179e\"],[0.4444444444444444,\"#bd3786\"],[0.5555555555555556,\"#d8576b\"],[0.6666666666666666,\"#ed7953\"],[0.7777777777777778,\"#fb9f3a\"],[0.8888888888888888,\"#fdca26\"],[1.0,\"#f0f921\"]]}],\"heatmapgl\":[{\"type\":\"heatmapgl\",\"colorbar\":{\"outlinewidth\":0,\"ticks\":\"\"},\"colorscale\":[[0.0,\"#0d0887\"],[0.1111111111111111,\"#46039f\"],[0.2222222222222222,\"#7201a8\"],[0.3333333333333333,\"#9c179e\"],[0.4444444444444444,\"#bd3786\"],[0.5555555555555556,\"#d8576b\"],[0.6666666666666666,\"#ed7953\"],[0.7777777777777778,\"#fb9f3a\"],[0.8888888888888888,\"#fdca26\"],[1.0,\"#f0f921\"]]}],\"contourcarpet\":[{\"type\":\"contourcarpet\",\"colorbar\":{\"outlinewidth\":0,\"ticks\":\"\"}}],\"contour\":[{\"type\":\"contour\",\"colorbar\":{\"outlinewidth\":0,\"ticks\":\"\"},\"colorscale\":[[0.0,\"#0d0887\"],[0.1111111111111111,\"#46039f\"],[0.2222222222222222,\"#7201a8\"],[0.3333333333333333,\"#9c179e\"],[0.4444444444444444,\"#bd3786\"],[0.5555555555555556,\"#d8576b\"],[0.6666666666666666,\"#ed7953\"],[0.7777777777777778,\"#fb9f3a\"],[0.8888888888888888,\"#fdca26\"],[1.0,\"#f0f921\"]]}],\"surface\":[{\"type\":\"surface\",\"colorbar\":{\"outlinewidth\":0,\"ticks\":\"\"},\"colorscale\":[[0.0,\"#0d0887\"],[0.1111111111111111,\"#46039f\"],[0.2222222222222222,\"#7201a8\"],[0.3333333333333333,\"#9c179e\"],[0.4444444444444444,\"#bd3786\"],[0.5555555555555556,\"#d8576b\"],[0.6666666666666666,\"#ed7953\"],[0.7777777777777778,\"#fb9f3a\"],[0.8888888888888888,\"#fdca26\"],[1.0,\"#f0f921\"]]}],\"mesh3d\":[{\"type\":\"mesh3d\",\"colorbar\":{\"outlinewidth\":0,\"ticks\":\"\"}}],\"scatter\":[{\"fillpattern\":{\"fillmode\":\"overlay\",\"size\":10,\"solidity\":0.2},\"type\":\"scatter\"}],\"parcoords\":[{\"type\":\"parcoords\",\"line\":{\"colorbar\":{\"outlinewidth\":0,\"ticks\":\"\"}}}],\"scatterpolargl\":[{\"type\":\"scatterpolargl\",\"marker\":{\"colorbar\":{\"outlinewidth\":0,\"ticks\":\"\"}}}],\"bar\":[{\"error_x\":{\"color\":\"#2a3f5f\"},\"error_y\":{\"color\":\"#2a3f5f\"},\"marker\":{\"line\":{\"color\":\"#E5ECF6\",\"width\":0.5},\"pattern\":{\"fillmode\":\"overlay\",\"size\":10,\"solidity\":0.2}},\"type\":\"bar\"}],\"scattergeo\":[{\"type\":\"scattergeo\",\"marker\":{\"colorbar\":{\"outlinewidth\":0,\"ticks\":\"\"}}}],\"scatterpolar\":[{\"type\":\"scatterpolar\",\"marker\":{\"colorbar\":{\"outlinewidth\":0,\"ticks\":\"\"}}}],\"histogram\":[{\"marker\":{\"pattern\":{\"fillmode\":\"overlay\",\"size\":10,\"solidity\":0.2}},\"type\":\"histogram\"}],\"scattergl\":[{\"type\":\"scattergl\",\"marker\":{\"colorbar\":{\"outlinewidth\":0,\"ticks\":\"\"}}}],\"scatter3d\":[{\"type\":\"scatter3d\",\"line\":{\"colorbar\":{\"outlinewidth\":0,\"ticks\":\"\"}},\"marker\":{\"colorbar\":{\"outlinewidth\":0,\"ticks\":\"\"}}}],\"scattermapbox\":[{\"type\":\"scattermapbox\",\"marker\":{\"colorbar\":{\"outlinewidth\":0,\"ticks\":\"\"}}}],\"scatterternary\":[{\"type\":\"scatterternary\",\"marker\":{\"colorbar\":{\"outlinewidth\":0,\"ticks\":\"\"}}}],\"scattercarpet\":[{\"type\":\"scattercarpet\",\"marker\":{\"colorbar\":{\"outlinewidth\":0,\"ticks\":\"\"}}}],\"carpet\":[{\"aaxis\":{\"endlinecolor\":\"#2a3f5f\",\"gridcolor\":\"white\",\"linecolor\":\"white\",\"minorgridcolor\":\"white\",\"startlinecolor\":\"#2a3f5f\"},\"baxis\":{\"endlinecolor\":\"#2a3f5f\",\"gridcolor\":\"white\",\"linecolor\":\"white\",\"minorgridcolor\":\"white\",\"startlinecolor\":\"#2a3f5f\"},\"type\":\"carpet\"}],\"table\":[{\"cells\":{\"fill\":{\"color\":\"#EBF0F8\"},\"line\":{\"color\":\"white\"}},\"header\":{\"fill\":{\"color\":\"#C8D4E3\"},\"line\":{\"color\":\"white\"}},\"type\":\"table\"}],\"barpolar\":[{\"marker\":{\"line\":{\"color\":\"#E5ECF6\",\"width\":0.5},\"pattern\":{\"fillmode\":\"overlay\",\"size\":10,\"solidity\":0.2}},\"type\":\"barpolar\"}],\"pie\":[{\"automargin\":true,\"type\":\"pie\"}]},\"layout\":{\"autotypenumbers\":\"strict\",\"colorway\":[\"#636efa\",\"#EF553B\",\"#00cc96\",\"#ab63fa\",\"#FFA15A\",\"#19d3f3\",\"#FF6692\",\"#B6E880\",\"#FF97FF\",\"#FECB52\"],\"font\":{\"color\":\"#2a3f5f\"},\"hovermode\":\"closest\",\"hoverlabel\":{\"align\":\"left\"},\"paper_bgcolor\":\"white\",\"plot_bgcolor\":\"#E5ECF6\",\"polar\":{\"bgcolor\":\"#E5ECF6\",\"angularaxis\":{\"gridcolor\":\"white\",\"linecolor\":\"white\",\"ticks\":\"\"},\"radialaxis\":{\"gridcolor\":\"white\",\"linecolor\":\"white\",\"ticks\":\"\"}},\"ternary\":{\"bgcolor\":\"#E5ECF6\",\"aaxis\":{\"gridcolor\":\"white\",\"linecolor\":\"white\",\"ticks\":\"\"},\"baxis\":{\"gridcolor\":\"white\",\"linecolor\":\"white\",\"ticks\":\"\"},\"caxis\":{\"gridcolor\":\"white\",\"linecolor\":\"white\",\"ticks\":\"\"}},\"coloraxis\":{\"colorbar\":{\"outlinewidth\":0,\"ticks\":\"\"}},\"colorscale\":{\"sequential\":[[0.0,\"#0d0887\"],[0.1111111111111111,\"#46039f\"],[0.2222222222222222,\"#7201a8\"],[0.3333333333333333,\"#9c179e\"],[0.4444444444444444,\"#bd3786\"],[0.5555555555555556,\"#d8576b\"],[0.6666666666666666,\"#ed7953\"],[0.7777777777777778,\"#fb9f3a\"],[0.8888888888888888,\"#fdca26\"],[1.0,\"#f0f921\"]],\"sequentialminus\":[[0.0,\"#0d0887\"],[0.1111111111111111,\"#46039f\"],[0.2222222222222222,\"#7201a8\"],[0.3333333333333333,\"#9c179e\"],[0.4444444444444444,\"#bd3786\"],[0.5555555555555556,\"#d8576b\"],[0.6666666666666666,\"#ed7953\"],[0.7777777777777778,\"#fb9f3a\"],[0.8888888888888888,\"#fdca26\"],[1.0,\"#f0f921\"]],\"diverging\":[[0,\"#8e0152\"],[0.1,\"#c51b7d\"],[0.2,\"#de77ae\"],[0.3,\"#f1b6da\"],[0.4,\"#fde0ef\"],[0.5,\"#f7f7f7\"],[0.6,\"#e6f5d0\"],[0.7,\"#b8e186\"],[0.8,\"#7fbc41\"],[0.9,\"#4d9221\"],[1,\"#276419\"]]},\"xaxis\":{\"gridcolor\":\"white\",\"linecolor\":\"white\",\"ticks\":\"\",\"title\":{\"standoff\":15},\"zerolinecolor\":\"white\",\"automargin\":true,\"zerolinewidth\":2},\"yaxis\":{\"gridcolor\":\"white\",\"linecolor\":\"white\",\"ticks\":\"\",\"title\":{\"standoff\":15},\"zerolinecolor\":\"white\",\"automargin\":true,\"zerolinewidth\":2},\"scene\":{\"xaxis\":{\"backgroundcolor\":\"#E5ECF6\",\"gridcolor\":\"white\",\"linecolor\":\"white\",\"showbackground\":true,\"ticks\":\"\",\"zerolinecolor\":\"white\",\"gridwidth\":2},\"yaxis\":{\"backgroundcolor\":\"#E5ECF6\",\"gridcolor\":\"white\",\"linecolor\":\"white\",\"showbackground\":true,\"ticks\":\"\",\"zerolinecolor\":\"white\",\"gridwidth\":2},\"zaxis\":{\"backgroundcolor\":\"#E5ECF6\",\"gridcolor\":\"white\",\"linecolor\":\"white\",\"showbackground\":true,\"ticks\":\"\",\"zerolinecolor\":\"white\",\"gridwidth\":2}},\"shapedefaults\":{\"line\":{\"color\":\"#2a3f5f\"}},\"annotationdefaults\":{\"arrowcolor\":\"#2a3f5f\",\"arrowhead\":0,\"arrowwidth\":1},\"geo\":{\"bgcolor\":\"white\",\"landcolor\":\"#E5ECF6\",\"subunitcolor\":\"white\",\"showland\":true,\"showlakes\":true,\"lakecolor\":\"white\"},\"title\":{\"x\":0.05},\"mapbox\":{\"style\":\"light\"}}},\"xaxis\":{\"anchor\":\"y\",\"domain\":[0.0,0.45],\"title\":{\"text\":\"Epoch\"}},\"yaxis\":{\"anchor\":\"x\",\"domain\":[0.0,1.0],\"title\":{\"text\":\"Loss\"}},\"xaxis2\":{\"anchor\":\"y2\",\"domain\":[0.55,1.0]},\"yaxis2\":{\"anchor\":\"x2\",\"domain\":[0.0,1.0]},\"annotations\":[{\"font\":{\"size\":16},\"showarrow\":false,\"text\":\"Original Dataset\",\"x\":0.225,\"xanchor\":\"center\",\"xref\":\"paper\",\"y\":1.0,\"yanchor\":\"bottom\",\"yref\":\"paper\"},{\"font\":{\"size\":16},\"showarrow\":false,\"text\":\"Fake Dataset\",\"x\":0.775,\"xanchor\":\"center\",\"xref\":\"paper\",\"y\":1.0,\"yanchor\":\"bottom\",\"yref\":\"paper\"}],\"title\":{\"font\":{\"size\":24},\"text\":\"Avg. Cross Entropy Loss Comparison: Original vs. Fake Dataset\",\"x\":0.5},\"showlegend\":true},                        {\"responsive\": true}                    ).then(function(){\n",
              "                            \n",
              "var gd = document.getElementById('41f708de-0eeb-4798-a0ea-3c06e4f1a1d1');\n",
              "var x = new MutationObserver(function (mutations, observer) {{\n",
              "        var display = window.getComputedStyle(gd).display;\n",
              "        if (!display || display === 'none') {{\n",
              "            console.log([gd, 'removed!']);\n",
              "            Plotly.purge(gd);\n",
              "            observer.disconnect();\n",
              "        }}\n",
              "}});\n",
              "\n",
              "// Listen for the removal of the full notebook cells\n",
              "var notebookContainer = gd.closest('#notebook-container');\n",
              "if (notebookContainer) {{\n",
              "    x.observe(notebookContainer, {childList: true});\n",
              "}}\n",
              "\n",
              "// Listen for the clearing of the current output cell\n",
              "var outputEl = gd.closest('.output');\n",
              "if (outputEl) {{\n",
              "    x.observe(outputEl, {childList: true});\n",
              "}}\n",
              "\n",
              "                        })                };                            </script>        </div>\n",
              "</body>\n",
              "</html>"
            ]
          },
          "metadata": {}
        }
      ]
    },
    {
      "cell_type": "code",
      "source": [
        "\n",
        "# Add annotations to display epoch and loss values\n",
        "for i in range(len(df)):\n",
        "    fig.add_annotation(text=f\"Epoch: {df['Epoch'][i]}<br>Loss: {df['Original Train Loss'][i]:.4f}\",\n",
        "                       x=df['Epoch'][i], y=df['Original Train Loss'][i],\n",
        "                       showarrow=True, font=dict(size=10),\n",
        "                       arrowhead=1, arrowcolor='blue',\n",
        "                       ax=20, ay=-30,\n",
        "                       row=1, col=1)\n",
        "\n",
        "    fig.add_annotation(text=f\"Epoch: {df['Epoch'][i]}<br>Loss: {df['Original Test Loss'][i]:.4f}\",\n",
        "                       x=df['Epoch'][i], y=df['Original Test Loss'][i],\n",
        "                       showarrow=True, font=dict(size=10),\n",
        "                       arrowhead=1, arrowcolor='green',\n",
        "                       ax=20, ay=-30,\n",
        "                       row=1, col=1)\n",
        "\n",
        "    fig.add_annotation(text=f\"Epoch: {df['Epoch'][i]}<br>Loss: {df['Fake Train Loss'][i]:.4f}\",\n",
        "                       x=df['Epoch'][i], y=df['Fake Train Loss'][i],\n",
        "                       showarrow=True, font=dict(size=10),\n",
        "                       arrowhead=1, arrowcolor='red',\n",
        "                       ax=20, ay=-30,\n",
        "                       row=1, col=2)\n",
        "\n",
        "    fig.add_annotation(text=f\"Epoch: {df['Epoch'][i]}<br>Loss: {df['Fake Test Loss'][i]:.4f}\",\n",
        "                       x=df['Epoch'][i], y=df['Fake Test Loss'][i],\n",
        "                       showarrow=True, font=dict(size=10),\n",
        "                       arrowhead=1, arrowcolor='orange',\n",
        "                       ax=20, ay=-30,\n",
        "                       row=1, col=2)\n",
        "\n",
        "# Update subplot titles, axis labels, and layout\n",
        "fig.update_layout(title_text=\"Avg. Cross Entropy Loss Comparison: Original vs. Fake Dataset\",\n",
        "                  title_font_size=24,\n",
        "                  title_x=0.5,\n",
        "                  xaxis_title=\"Epoch\",\n",
        "                  yaxis_title=\"Loss\",\n",
        "                  legend=dict(font=dict(size=20)),  # Adjust the legend font size\n",
        "                  showlegend=True)  # Show the legend for each subplot\n",
        "\n",
        "# Show the plot\n",
        "fig.show()"
      ],
      "metadata": {
        "colab": {
          "base_uri": "https://localhost:8080/",
          "height": 542
        },
        "id": "A7Y3vDCoA3W8",
        "outputId": "d031fa34-ddc8-44b6-bba4-20b583d1040a"
      },
      "execution_count": null,
      "outputs": [
        {
          "output_type": "display_data",
          "data": {
            "text/html": [
              "<html>\n",
              "<head><meta charset=\"utf-8\" /></head>\n",
              "<body>\n",
              "    <div>            <script src=\"https://cdnjs.cloudflare.com/ajax/libs/mathjax/2.7.5/MathJax.js?config=TeX-AMS-MML_SVG\"></script><script type=\"text/javascript\">if (window.MathJax && window.MathJax.Hub && window.MathJax.Hub.Config) {window.MathJax.Hub.Config({SVG: {font: \"STIX-Web\"}});}</script>                <script type=\"text/javascript\">window.PlotlyConfig = {MathJaxConfig: 'local'};</script>\n",
              "        <script charset=\"utf-8\" src=\"https://cdn.plot.ly/plotly-2.24.1.min.js\"></script>                <div id=\"f783e834-3db0-4c4a-9454-7b6a1e0f36f8\" class=\"plotly-graph-div\" style=\"height:525px; width:100%;\"></div>            <script type=\"text/javascript\">                                    window.PLOTLYENV=window.PLOTLYENV || {};                                    if (document.getElementById(\"f783e834-3db0-4c4a-9454-7b6a1e0f36f8\")) {                    Plotly.newPlot(                        \"f783e834-3db0-4c4a-9454-7b6a1e0f36f8\",                        [{\"mode\":\"lines\",\"name\":\"Train Loss\",\"x\":[1,2,3,4,5,6,7,8,9,10],\"y\":[0.44897137779523344,0.1089059540125377,0.0842091265367344,0.0621468484716709,0.05847540697055485,0.034881574511767696,0.033639315754579215,0.004288615992824335,0.0033351585899414633,0.008835552429766668],\"type\":\"scatter\",\"xaxis\":\"x\",\"yaxis\":\"y\"},{\"mode\":\"lines\",\"name\":\"Test Loss\",\"x\":[1,2,3,4,5,6,7,8,9,10],\"y\":[0.562724969642503,0.6182711622544698,0.5745598056486675,0.6552222324269158,0.5523789490972246,0.5969556723322187,0.4863405576774052,0.5707283922604152,0.603880791578974,0.6223685766969408],\"type\":\"scatter\",\"xaxis\":\"x\",\"yaxis\":\"y\"},{\"mode\":\"lines\",\"name\":\"Train Loss\",\"x\":[1,2,3,4,5,6,7,8,9,10],\"y\":[0.055288338617091815,1.1435317473178446e-05,4.851167180509778e-06,3.4773202929859824e-06,2.226996466719737e-06,1.7959621567739346e-06,1.505725597167458e-06,1.327286456222113e-06,1.1692864565337766e-06,1.0801485124835212e-06],\"type\":\"scatter\",\"xaxis\":\"x2\",\"yaxis\":\"y2\"},{\"mode\":\"lines\",\"name\":\"Test Loss\",\"x\":[1,2,3,4,5,6,7,8,9,10],\"y\":[22.198487772260393,21.224045426504954,21.610097449166435,20.45663501194545,20.697312109810966,21.434550176348004,22.926162937709265,20.522957611083985,21.554661178588866,22.694471059526716],\"type\":\"scatter\",\"xaxis\":\"x2\",\"yaxis\":\"y2\"}],                        {\"template\":{\"data\":{\"histogram2dcontour\":[{\"type\":\"histogram2dcontour\",\"colorbar\":{\"outlinewidth\":0,\"ticks\":\"\"},\"colorscale\":[[0.0,\"#0d0887\"],[0.1111111111111111,\"#46039f\"],[0.2222222222222222,\"#7201a8\"],[0.3333333333333333,\"#9c179e\"],[0.4444444444444444,\"#bd3786\"],[0.5555555555555556,\"#d8576b\"],[0.6666666666666666,\"#ed7953\"],[0.7777777777777778,\"#fb9f3a\"],[0.8888888888888888,\"#fdca26\"],[1.0,\"#f0f921\"]]}],\"choropleth\":[{\"type\":\"choropleth\",\"colorbar\":{\"outlinewidth\":0,\"ticks\":\"\"}}],\"histogram2d\":[{\"type\":\"histogram2d\",\"colorbar\":{\"outlinewidth\":0,\"ticks\":\"\"},\"colorscale\":[[0.0,\"#0d0887\"],[0.1111111111111111,\"#46039f\"],[0.2222222222222222,\"#7201a8\"],[0.3333333333333333,\"#9c179e\"],[0.4444444444444444,\"#bd3786\"],[0.5555555555555556,\"#d8576b\"],[0.6666666666666666,\"#ed7953\"],[0.7777777777777778,\"#fb9f3a\"],[0.8888888888888888,\"#fdca26\"],[1.0,\"#f0f921\"]]}],\"heatmap\":[{\"type\":\"heatmap\",\"colorbar\":{\"outlinewidth\":0,\"ticks\":\"\"},\"colorscale\":[[0.0,\"#0d0887\"],[0.1111111111111111,\"#46039f\"],[0.2222222222222222,\"#7201a8\"],[0.3333333333333333,\"#9c179e\"],[0.4444444444444444,\"#bd3786\"],[0.5555555555555556,\"#d8576b\"],[0.6666666666666666,\"#ed7953\"],[0.7777777777777778,\"#fb9f3a\"],[0.8888888888888888,\"#fdca26\"],[1.0,\"#f0f921\"]]}],\"heatmapgl\":[{\"type\":\"heatmapgl\",\"colorbar\":{\"outlinewidth\":0,\"ticks\":\"\"},\"colorscale\":[[0.0,\"#0d0887\"],[0.1111111111111111,\"#46039f\"],[0.2222222222222222,\"#7201a8\"],[0.3333333333333333,\"#9c179e\"],[0.4444444444444444,\"#bd3786\"],[0.5555555555555556,\"#d8576b\"],[0.6666666666666666,\"#ed7953\"],[0.7777777777777778,\"#fb9f3a\"],[0.8888888888888888,\"#fdca26\"],[1.0,\"#f0f921\"]]}],\"contourcarpet\":[{\"type\":\"contourcarpet\",\"colorbar\":{\"outlinewidth\":0,\"ticks\":\"\"}}],\"contour\":[{\"type\":\"contour\",\"colorbar\":{\"outlinewidth\":0,\"ticks\":\"\"},\"colorscale\":[[0.0,\"#0d0887\"],[0.1111111111111111,\"#46039f\"],[0.2222222222222222,\"#7201a8\"],[0.3333333333333333,\"#9c179e\"],[0.4444444444444444,\"#bd3786\"],[0.5555555555555556,\"#d8576b\"],[0.6666666666666666,\"#ed7953\"],[0.7777777777777778,\"#fb9f3a\"],[0.8888888888888888,\"#fdca26\"],[1.0,\"#f0f921\"]]}],\"surface\":[{\"type\":\"surface\",\"colorbar\":{\"outlinewidth\":0,\"ticks\":\"\"},\"colorscale\":[[0.0,\"#0d0887\"],[0.1111111111111111,\"#46039f\"],[0.2222222222222222,\"#7201a8\"],[0.3333333333333333,\"#9c179e\"],[0.4444444444444444,\"#bd3786\"],[0.5555555555555556,\"#d8576b\"],[0.6666666666666666,\"#ed7953\"],[0.7777777777777778,\"#fb9f3a\"],[0.8888888888888888,\"#fdca26\"],[1.0,\"#f0f921\"]]}],\"mesh3d\":[{\"type\":\"mesh3d\",\"colorbar\":{\"outlinewidth\":0,\"ticks\":\"\"}}],\"scatter\":[{\"fillpattern\":{\"fillmode\":\"overlay\",\"size\":10,\"solidity\":0.2},\"type\":\"scatter\"}],\"parcoords\":[{\"type\":\"parcoords\",\"line\":{\"colorbar\":{\"outlinewidth\":0,\"ticks\":\"\"}}}],\"scatterpolargl\":[{\"type\":\"scatterpolargl\",\"marker\":{\"colorbar\":{\"outlinewidth\":0,\"ticks\":\"\"}}}],\"bar\":[{\"error_x\":{\"color\":\"#2a3f5f\"},\"error_y\":{\"color\":\"#2a3f5f\"},\"marker\":{\"line\":{\"color\":\"#E5ECF6\",\"width\":0.5},\"pattern\":{\"fillmode\":\"overlay\",\"size\":10,\"solidity\":0.2}},\"type\":\"bar\"}],\"scattergeo\":[{\"type\":\"scattergeo\",\"marker\":{\"colorbar\":{\"outlinewidth\":0,\"ticks\":\"\"}}}],\"scatterpolar\":[{\"type\":\"scatterpolar\",\"marker\":{\"colorbar\":{\"outlinewidth\":0,\"ticks\":\"\"}}}],\"histogram\":[{\"marker\":{\"pattern\":{\"fillmode\":\"overlay\",\"size\":10,\"solidity\":0.2}},\"type\":\"histogram\"}],\"scattergl\":[{\"type\":\"scattergl\",\"marker\":{\"colorbar\":{\"outlinewidth\":0,\"ticks\":\"\"}}}],\"scatter3d\":[{\"type\":\"scatter3d\",\"line\":{\"colorbar\":{\"outlinewidth\":0,\"ticks\":\"\"}},\"marker\":{\"colorbar\":{\"outlinewidth\":0,\"ticks\":\"\"}}}],\"scattermapbox\":[{\"type\":\"scattermapbox\",\"marker\":{\"colorbar\":{\"outlinewidth\":0,\"ticks\":\"\"}}}],\"scatterternary\":[{\"type\":\"scatterternary\",\"marker\":{\"colorbar\":{\"outlinewidth\":0,\"ticks\":\"\"}}}],\"scattercarpet\":[{\"type\":\"scattercarpet\",\"marker\":{\"colorbar\":{\"outlinewidth\":0,\"ticks\":\"\"}}}],\"carpet\":[{\"aaxis\":{\"endlinecolor\":\"#2a3f5f\",\"gridcolor\":\"white\",\"linecolor\":\"white\",\"minorgridcolor\":\"white\",\"startlinecolor\":\"#2a3f5f\"},\"baxis\":{\"endlinecolor\":\"#2a3f5f\",\"gridcolor\":\"white\",\"linecolor\":\"white\",\"minorgridcolor\":\"white\",\"startlinecolor\":\"#2a3f5f\"},\"type\":\"carpet\"}],\"table\":[{\"cells\":{\"fill\":{\"color\":\"#EBF0F8\"},\"line\":{\"color\":\"white\"}},\"header\":{\"fill\":{\"color\":\"#C8D4E3\"},\"line\":{\"color\":\"white\"}},\"type\":\"table\"}],\"barpolar\":[{\"marker\":{\"line\":{\"color\":\"#E5ECF6\",\"width\":0.5},\"pattern\":{\"fillmode\":\"overlay\",\"size\":10,\"solidity\":0.2}},\"type\":\"barpolar\"}],\"pie\":[{\"automargin\":true,\"type\":\"pie\"}]},\"layout\":{\"autotypenumbers\":\"strict\",\"colorway\":[\"#636efa\",\"#EF553B\",\"#00cc96\",\"#ab63fa\",\"#FFA15A\",\"#19d3f3\",\"#FF6692\",\"#B6E880\",\"#FF97FF\",\"#FECB52\"],\"font\":{\"color\":\"#2a3f5f\"},\"hovermode\":\"closest\",\"hoverlabel\":{\"align\":\"left\"},\"paper_bgcolor\":\"white\",\"plot_bgcolor\":\"#E5ECF6\",\"polar\":{\"bgcolor\":\"#E5ECF6\",\"angularaxis\":{\"gridcolor\":\"white\",\"linecolor\":\"white\",\"ticks\":\"\"},\"radialaxis\":{\"gridcolor\":\"white\",\"linecolor\":\"white\",\"ticks\":\"\"}},\"ternary\":{\"bgcolor\":\"#E5ECF6\",\"aaxis\":{\"gridcolor\":\"white\",\"linecolor\":\"white\",\"ticks\":\"\"},\"baxis\":{\"gridcolor\":\"white\",\"linecolor\":\"white\",\"ticks\":\"\"},\"caxis\":{\"gridcolor\":\"white\",\"linecolor\":\"white\",\"ticks\":\"\"}},\"coloraxis\":{\"colorbar\":{\"outlinewidth\":0,\"ticks\":\"\"}},\"colorscale\":{\"sequential\":[[0.0,\"#0d0887\"],[0.1111111111111111,\"#46039f\"],[0.2222222222222222,\"#7201a8\"],[0.3333333333333333,\"#9c179e\"],[0.4444444444444444,\"#bd3786\"],[0.5555555555555556,\"#d8576b\"],[0.6666666666666666,\"#ed7953\"],[0.7777777777777778,\"#fb9f3a\"],[0.8888888888888888,\"#fdca26\"],[1.0,\"#f0f921\"]],\"sequentialminus\":[[0.0,\"#0d0887\"],[0.1111111111111111,\"#46039f\"],[0.2222222222222222,\"#7201a8\"],[0.3333333333333333,\"#9c179e\"],[0.4444444444444444,\"#bd3786\"],[0.5555555555555556,\"#d8576b\"],[0.6666666666666666,\"#ed7953\"],[0.7777777777777778,\"#fb9f3a\"],[0.8888888888888888,\"#fdca26\"],[1.0,\"#f0f921\"]],\"diverging\":[[0,\"#8e0152\"],[0.1,\"#c51b7d\"],[0.2,\"#de77ae\"],[0.3,\"#f1b6da\"],[0.4,\"#fde0ef\"],[0.5,\"#f7f7f7\"],[0.6,\"#e6f5d0\"],[0.7,\"#b8e186\"],[0.8,\"#7fbc41\"],[0.9,\"#4d9221\"],[1,\"#276419\"]]},\"xaxis\":{\"gridcolor\":\"white\",\"linecolor\":\"white\",\"ticks\":\"\",\"title\":{\"standoff\":15},\"zerolinecolor\":\"white\",\"automargin\":true,\"zerolinewidth\":2},\"yaxis\":{\"gridcolor\":\"white\",\"linecolor\":\"white\",\"ticks\":\"\",\"title\":{\"standoff\":15},\"zerolinecolor\":\"white\",\"automargin\":true,\"zerolinewidth\":2},\"scene\":{\"xaxis\":{\"backgroundcolor\":\"#E5ECF6\",\"gridcolor\":\"white\",\"linecolor\":\"white\",\"showbackground\":true,\"ticks\":\"\",\"zerolinecolor\":\"white\",\"gridwidth\":2},\"yaxis\":{\"backgroundcolor\":\"#E5ECF6\",\"gridcolor\":\"white\",\"linecolor\":\"white\",\"showbackground\":true,\"ticks\":\"\",\"zerolinecolor\":\"white\",\"gridwidth\":2},\"zaxis\":{\"backgroundcolor\":\"#E5ECF6\",\"gridcolor\":\"white\",\"linecolor\":\"white\",\"showbackground\":true,\"ticks\":\"\",\"zerolinecolor\":\"white\",\"gridwidth\":2}},\"shapedefaults\":{\"line\":{\"color\":\"#2a3f5f\"}},\"annotationdefaults\":{\"arrowcolor\":\"#2a3f5f\",\"arrowhead\":0,\"arrowwidth\":1},\"geo\":{\"bgcolor\":\"white\",\"landcolor\":\"#E5ECF6\",\"subunitcolor\":\"white\",\"showland\":true,\"showlakes\":true,\"lakecolor\":\"white\"},\"title\":{\"x\":0.05},\"mapbox\":{\"style\":\"light\"}}},\"xaxis\":{\"anchor\":\"y\",\"domain\":[0.0,0.45],\"title\":{\"text\":\"Epoch\"}},\"yaxis\":{\"anchor\":\"x\",\"domain\":[0.0,1.0],\"title\":{\"text\":\"Loss\"}},\"xaxis2\":{\"anchor\":\"y2\",\"domain\":[0.55,1.0]},\"yaxis2\":{\"anchor\":\"x2\",\"domain\":[0.0,1.0]},\"annotations\":[{\"font\":{\"size\":16},\"showarrow\":false,\"text\":\"Original Dataset\",\"x\":0.225,\"xanchor\":\"center\",\"xref\":\"paper\",\"y\":1.0,\"yanchor\":\"bottom\",\"yref\":\"paper\"},{\"font\":{\"size\":16},\"showarrow\":false,\"text\":\"Fake Dataset\",\"x\":0.775,\"xanchor\":\"center\",\"xref\":\"paper\",\"y\":1.0,\"yanchor\":\"bottom\",\"yref\":\"paper\"},{\"arrowcolor\":\"blue\",\"arrowhead\":1,\"ax\":20,\"ay\":-30,\"font\":{\"size\":10},\"showarrow\":true,\"text\":\"Epoch: 1\\u003cbr\\u003eLoss: 0.4490\",\"x\":1,\"xref\":\"x\",\"y\":0.44897137779523344,\"yref\":\"y\"},{\"arrowcolor\":\"green\",\"arrowhead\":1,\"ax\":20,\"ay\":-30,\"font\":{\"size\":10},\"showarrow\":true,\"text\":\"Epoch: 1\\u003cbr\\u003eLoss: 0.5627\",\"x\":1,\"xref\":\"x\",\"y\":0.562724969642503,\"yref\":\"y\"},{\"arrowcolor\":\"red\",\"arrowhead\":1,\"ax\":20,\"ay\":-30,\"font\":{\"size\":10},\"showarrow\":true,\"text\":\"Epoch: 1\\u003cbr\\u003eLoss: 0.0553\",\"x\":1,\"xref\":\"x2\",\"y\":0.055288338617091815,\"yref\":\"y2\"},{\"arrowcolor\":\"orange\",\"arrowhead\":1,\"ax\":20,\"ay\":-30,\"font\":{\"size\":10},\"showarrow\":true,\"text\":\"Epoch: 1\\u003cbr\\u003eLoss: 22.1985\",\"x\":1,\"xref\":\"x2\",\"y\":22.198487772260393,\"yref\":\"y2\"},{\"arrowcolor\":\"blue\",\"arrowhead\":1,\"ax\":20,\"ay\":-30,\"font\":{\"size\":10},\"showarrow\":true,\"text\":\"Epoch: 2\\u003cbr\\u003eLoss: 0.1089\",\"x\":2,\"xref\":\"x\",\"y\":0.1089059540125377,\"yref\":\"y\"},{\"arrowcolor\":\"green\",\"arrowhead\":1,\"ax\":20,\"ay\":-30,\"font\":{\"size\":10},\"showarrow\":true,\"text\":\"Epoch: 2\\u003cbr\\u003eLoss: 0.6183\",\"x\":2,\"xref\":\"x\",\"y\":0.6182711622544698,\"yref\":\"y\"},{\"arrowcolor\":\"red\",\"arrowhead\":1,\"ax\":20,\"ay\":-30,\"font\":{\"size\":10},\"showarrow\":true,\"text\":\"Epoch: 2\\u003cbr\\u003eLoss: 0.0000\",\"x\":2,\"xref\":\"x2\",\"y\":1.1435317473178446e-05,\"yref\":\"y2\"},{\"arrowcolor\":\"orange\",\"arrowhead\":1,\"ax\":20,\"ay\":-30,\"font\":{\"size\":10},\"showarrow\":true,\"text\":\"Epoch: 2\\u003cbr\\u003eLoss: 21.2240\",\"x\":2,\"xref\":\"x2\",\"y\":21.224045426504954,\"yref\":\"y2\"},{\"arrowcolor\":\"blue\",\"arrowhead\":1,\"ax\":20,\"ay\":-30,\"font\":{\"size\":10},\"showarrow\":true,\"text\":\"Epoch: 3\\u003cbr\\u003eLoss: 0.0842\",\"x\":3,\"xref\":\"x\",\"y\":0.0842091265367344,\"yref\":\"y\"},{\"arrowcolor\":\"green\",\"arrowhead\":1,\"ax\":20,\"ay\":-30,\"font\":{\"size\":10},\"showarrow\":true,\"text\":\"Epoch: 3\\u003cbr\\u003eLoss: 0.5746\",\"x\":3,\"xref\":\"x\",\"y\":0.5745598056486675,\"yref\":\"y\"},{\"arrowcolor\":\"red\",\"arrowhead\":1,\"ax\":20,\"ay\":-30,\"font\":{\"size\":10},\"showarrow\":true,\"text\":\"Epoch: 3\\u003cbr\\u003eLoss: 0.0000\",\"x\":3,\"xref\":\"x2\",\"y\":4.851167180509778e-06,\"yref\":\"y2\"},{\"arrowcolor\":\"orange\",\"arrowhead\":1,\"ax\":20,\"ay\":-30,\"font\":{\"size\":10},\"showarrow\":true,\"text\":\"Epoch: 3\\u003cbr\\u003eLoss: 21.6101\",\"x\":3,\"xref\":\"x2\",\"y\":21.610097449166435,\"yref\":\"y2\"},{\"arrowcolor\":\"blue\",\"arrowhead\":1,\"ax\":20,\"ay\":-30,\"font\":{\"size\":10},\"showarrow\":true,\"text\":\"Epoch: 4\\u003cbr\\u003eLoss: 0.0621\",\"x\":4,\"xref\":\"x\",\"y\":0.0621468484716709,\"yref\":\"y\"},{\"arrowcolor\":\"green\",\"arrowhead\":1,\"ax\":20,\"ay\":-30,\"font\":{\"size\":10},\"showarrow\":true,\"text\":\"Epoch: 4\\u003cbr\\u003eLoss: 0.6552\",\"x\":4,\"xref\":\"x\",\"y\":0.6552222324269158,\"yref\":\"y\"},{\"arrowcolor\":\"red\",\"arrowhead\":1,\"ax\":20,\"ay\":-30,\"font\":{\"size\":10},\"showarrow\":true,\"text\":\"Epoch: 4\\u003cbr\\u003eLoss: 0.0000\",\"x\":4,\"xref\":\"x2\",\"y\":3.4773202929859824e-06,\"yref\":\"y2\"},{\"arrowcolor\":\"orange\",\"arrowhead\":1,\"ax\":20,\"ay\":-30,\"font\":{\"size\":10},\"showarrow\":true,\"text\":\"Epoch: 4\\u003cbr\\u003eLoss: 20.4566\",\"x\":4,\"xref\":\"x2\",\"y\":20.45663501194545,\"yref\":\"y2\"},{\"arrowcolor\":\"blue\",\"arrowhead\":1,\"ax\":20,\"ay\":-30,\"font\":{\"size\":10},\"showarrow\":true,\"text\":\"Epoch: 5\\u003cbr\\u003eLoss: 0.0585\",\"x\":5,\"xref\":\"x\",\"y\":0.05847540697055485,\"yref\":\"y\"},{\"arrowcolor\":\"green\",\"arrowhead\":1,\"ax\":20,\"ay\":-30,\"font\":{\"size\":10},\"showarrow\":true,\"text\":\"Epoch: 5\\u003cbr\\u003eLoss: 0.5524\",\"x\":5,\"xref\":\"x\",\"y\":0.5523789490972246,\"yref\":\"y\"},{\"arrowcolor\":\"red\",\"arrowhead\":1,\"ax\":20,\"ay\":-30,\"font\":{\"size\":10},\"showarrow\":true,\"text\":\"Epoch: 5\\u003cbr\\u003eLoss: 0.0000\",\"x\":5,\"xref\":\"x2\",\"y\":2.226996466719737e-06,\"yref\":\"y2\"},{\"arrowcolor\":\"orange\",\"arrowhead\":1,\"ax\":20,\"ay\":-30,\"font\":{\"size\":10},\"showarrow\":true,\"text\":\"Epoch: 5\\u003cbr\\u003eLoss: 20.6973\",\"x\":5,\"xref\":\"x2\",\"y\":20.697312109810966,\"yref\":\"y2\"},{\"arrowcolor\":\"blue\",\"arrowhead\":1,\"ax\":20,\"ay\":-30,\"font\":{\"size\":10},\"showarrow\":true,\"text\":\"Epoch: 6\\u003cbr\\u003eLoss: 0.0349\",\"x\":6,\"xref\":\"x\",\"y\":0.034881574511767696,\"yref\":\"y\"},{\"arrowcolor\":\"green\",\"arrowhead\":1,\"ax\":20,\"ay\":-30,\"font\":{\"size\":10},\"showarrow\":true,\"text\":\"Epoch: 6\\u003cbr\\u003eLoss: 0.5970\",\"x\":6,\"xref\":\"x\",\"y\":0.5969556723322187,\"yref\":\"y\"},{\"arrowcolor\":\"red\",\"arrowhead\":1,\"ax\":20,\"ay\":-30,\"font\":{\"size\":10},\"showarrow\":true,\"text\":\"Epoch: 6\\u003cbr\\u003eLoss: 0.0000\",\"x\":6,\"xref\":\"x2\",\"y\":1.7959621567739346e-06,\"yref\":\"y2\"},{\"arrowcolor\":\"orange\",\"arrowhead\":1,\"ax\":20,\"ay\":-30,\"font\":{\"size\":10},\"showarrow\":true,\"text\":\"Epoch: 6\\u003cbr\\u003eLoss: 21.4346\",\"x\":6,\"xref\":\"x2\",\"y\":21.434550176348004,\"yref\":\"y2\"},{\"arrowcolor\":\"blue\",\"arrowhead\":1,\"ax\":20,\"ay\":-30,\"font\":{\"size\":10},\"showarrow\":true,\"text\":\"Epoch: 7\\u003cbr\\u003eLoss: 0.0336\",\"x\":7,\"xref\":\"x\",\"y\":0.033639315754579215,\"yref\":\"y\"},{\"arrowcolor\":\"green\",\"arrowhead\":1,\"ax\":20,\"ay\":-30,\"font\":{\"size\":10},\"showarrow\":true,\"text\":\"Epoch: 7\\u003cbr\\u003eLoss: 0.4863\",\"x\":7,\"xref\":\"x\",\"y\":0.4863405576774052,\"yref\":\"y\"},{\"arrowcolor\":\"red\",\"arrowhead\":1,\"ax\":20,\"ay\":-30,\"font\":{\"size\":10},\"showarrow\":true,\"text\":\"Epoch: 7\\u003cbr\\u003eLoss: 0.0000\",\"x\":7,\"xref\":\"x2\",\"y\":1.505725597167458e-06,\"yref\":\"y2\"},{\"arrowcolor\":\"orange\",\"arrowhead\":1,\"ax\":20,\"ay\":-30,\"font\":{\"size\":10},\"showarrow\":true,\"text\":\"Epoch: 7\\u003cbr\\u003eLoss: 22.9262\",\"x\":7,\"xref\":\"x2\",\"y\":22.926162937709265,\"yref\":\"y2\"},{\"arrowcolor\":\"blue\",\"arrowhead\":1,\"ax\":20,\"ay\":-30,\"font\":{\"size\":10},\"showarrow\":true,\"text\":\"Epoch: 8\\u003cbr\\u003eLoss: 0.0043\",\"x\":8,\"xref\":\"x\",\"y\":0.004288615992824335,\"yref\":\"y\"},{\"arrowcolor\":\"green\",\"arrowhead\":1,\"ax\":20,\"ay\":-30,\"font\":{\"size\":10},\"showarrow\":true,\"text\":\"Epoch: 8\\u003cbr\\u003eLoss: 0.5707\",\"x\":8,\"xref\":\"x\",\"y\":0.5707283922604152,\"yref\":\"y\"},{\"arrowcolor\":\"red\",\"arrowhead\":1,\"ax\":20,\"ay\":-30,\"font\":{\"size\":10},\"showarrow\":true,\"text\":\"Epoch: 8\\u003cbr\\u003eLoss: 0.0000\",\"x\":8,\"xref\":\"x2\",\"y\":1.327286456222113e-06,\"yref\":\"y2\"},{\"arrowcolor\":\"orange\",\"arrowhead\":1,\"ax\":20,\"ay\":-30,\"font\":{\"size\":10},\"showarrow\":true,\"text\":\"Epoch: 8\\u003cbr\\u003eLoss: 20.5230\",\"x\":8,\"xref\":\"x2\",\"y\":20.522957611083985,\"yref\":\"y2\"},{\"arrowcolor\":\"blue\",\"arrowhead\":1,\"ax\":20,\"ay\":-30,\"font\":{\"size\":10},\"showarrow\":true,\"text\":\"Epoch: 9\\u003cbr\\u003eLoss: 0.0033\",\"x\":9,\"xref\":\"x\",\"y\":0.0033351585899414633,\"yref\":\"y\"},{\"arrowcolor\":\"green\",\"arrowhead\":1,\"ax\":20,\"ay\":-30,\"font\":{\"size\":10},\"showarrow\":true,\"text\":\"Epoch: 9\\u003cbr\\u003eLoss: 0.6039\",\"x\":9,\"xref\":\"x\",\"y\":0.603880791578974,\"yref\":\"y\"},{\"arrowcolor\":\"red\",\"arrowhead\":1,\"ax\":20,\"ay\":-30,\"font\":{\"size\":10},\"showarrow\":true,\"text\":\"Epoch: 9\\u003cbr\\u003eLoss: 0.0000\",\"x\":9,\"xref\":\"x2\",\"y\":1.1692864565337766e-06,\"yref\":\"y2\"},{\"arrowcolor\":\"orange\",\"arrowhead\":1,\"ax\":20,\"ay\":-30,\"font\":{\"size\":10},\"showarrow\":true,\"text\":\"Epoch: 9\\u003cbr\\u003eLoss: 21.5547\",\"x\":9,\"xref\":\"x2\",\"y\":21.554661178588866,\"yref\":\"y2\"},{\"arrowcolor\":\"blue\",\"arrowhead\":1,\"ax\":20,\"ay\":-30,\"font\":{\"size\":10},\"showarrow\":true,\"text\":\"Epoch: 10\\u003cbr\\u003eLoss: 0.0088\",\"x\":10,\"xref\":\"x\",\"y\":0.008835552429766668,\"yref\":\"y\"},{\"arrowcolor\":\"green\",\"arrowhead\":1,\"ax\":20,\"ay\":-30,\"font\":{\"size\":10},\"showarrow\":true,\"text\":\"Epoch: 10\\u003cbr\\u003eLoss: 0.6224\",\"x\":10,\"xref\":\"x\",\"y\":0.6223685766969408,\"yref\":\"y\"},{\"arrowcolor\":\"red\",\"arrowhead\":1,\"ax\":20,\"ay\":-30,\"font\":{\"size\":10},\"showarrow\":true,\"text\":\"Epoch: 10\\u003cbr\\u003eLoss: 0.0000\",\"x\":10,\"xref\":\"x2\",\"y\":1.0801485124835212e-06,\"yref\":\"y2\"},{\"arrowcolor\":\"orange\",\"arrowhead\":1,\"ax\":20,\"ay\":-30,\"font\":{\"size\":10},\"showarrow\":true,\"text\":\"Epoch: 10\\u003cbr\\u003eLoss: 22.6945\",\"x\":10,\"xref\":\"x2\",\"y\":22.694471059526716,\"yref\":\"y2\"},{\"arrowcolor\":\"blue\",\"arrowhead\":1,\"ax\":20,\"ay\":-30,\"font\":{\"size\":10},\"showarrow\":true,\"text\":\"Epoch: 1\\u003cbr\\u003eLoss: 0.4490\",\"x\":1,\"xref\":\"x\",\"y\":0.44897137779523344,\"yref\":\"y\"},{\"arrowcolor\":\"green\",\"arrowhead\":1,\"ax\":20,\"ay\":-30,\"font\":{\"size\":10},\"showarrow\":true,\"text\":\"Epoch: 1\\u003cbr\\u003eLoss: 0.5627\",\"x\":1,\"xref\":\"x\",\"y\":0.562724969642503,\"yref\":\"y\"},{\"arrowcolor\":\"red\",\"arrowhead\":1,\"ax\":20,\"ay\":-30,\"font\":{\"size\":10},\"showarrow\":true,\"text\":\"Epoch: 1\\u003cbr\\u003eLoss: 0.0553\",\"x\":1,\"xref\":\"x2\",\"y\":0.055288338617091815,\"yref\":\"y2\"},{\"arrowcolor\":\"orange\",\"arrowhead\":1,\"ax\":20,\"ay\":-30,\"font\":{\"size\":10},\"showarrow\":true,\"text\":\"Epoch: 1\\u003cbr\\u003eLoss: 22.1985\",\"x\":1,\"xref\":\"x2\",\"y\":22.198487772260393,\"yref\":\"y2\"},{\"arrowcolor\":\"blue\",\"arrowhead\":1,\"ax\":20,\"ay\":-30,\"font\":{\"size\":10},\"showarrow\":true,\"text\":\"Epoch: 2\\u003cbr\\u003eLoss: 0.1089\",\"x\":2,\"xref\":\"x\",\"y\":0.1089059540125377,\"yref\":\"y\"},{\"arrowcolor\":\"green\",\"arrowhead\":1,\"ax\":20,\"ay\":-30,\"font\":{\"size\":10},\"showarrow\":true,\"text\":\"Epoch: 2\\u003cbr\\u003eLoss: 0.6183\",\"x\":2,\"xref\":\"x\",\"y\":0.6182711622544698,\"yref\":\"y\"},{\"arrowcolor\":\"red\",\"arrowhead\":1,\"ax\":20,\"ay\":-30,\"font\":{\"size\":10},\"showarrow\":true,\"text\":\"Epoch: 2\\u003cbr\\u003eLoss: 0.0000\",\"x\":2,\"xref\":\"x2\",\"y\":1.1435317473178446e-05,\"yref\":\"y2\"},{\"arrowcolor\":\"orange\",\"arrowhead\":1,\"ax\":20,\"ay\":-30,\"font\":{\"size\":10},\"showarrow\":true,\"text\":\"Epoch: 2\\u003cbr\\u003eLoss: 21.2240\",\"x\":2,\"xref\":\"x2\",\"y\":21.224045426504954,\"yref\":\"y2\"},{\"arrowcolor\":\"blue\",\"arrowhead\":1,\"ax\":20,\"ay\":-30,\"font\":{\"size\":10},\"showarrow\":true,\"text\":\"Epoch: 3\\u003cbr\\u003eLoss: 0.0842\",\"x\":3,\"xref\":\"x\",\"y\":0.0842091265367344,\"yref\":\"y\"},{\"arrowcolor\":\"green\",\"arrowhead\":1,\"ax\":20,\"ay\":-30,\"font\":{\"size\":10},\"showarrow\":true,\"text\":\"Epoch: 3\\u003cbr\\u003eLoss: 0.5746\",\"x\":3,\"xref\":\"x\",\"y\":0.5745598056486675,\"yref\":\"y\"},{\"arrowcolor\":\"red\",\"arrowhead\":1,\"ax\":20,\"ay\":-30,\"font\":{\"size\":10},\"showarrow\":true,\"text\":\"Epoch: 3\\u003cbr\\u003eLoss: 0.0000\",\"x\":3,\"xref\":\"x2\",\"y\":4.851167180509778e-06,\"yref\":\"y2\"},{\"arrowcolor\":\"orange\",\"arrowhead\":1,\"ax\":20,\"ay\":-30,\"font\":{\"size\":10},\"showarrow\":true,\"text\":\"Epoch: 3\\u003cbr\\u003eLoss: 21.6101\",\"x\":3,\"xref\":\"x2\",\"y\":21.610097449166435,\"yref\":\"y2\"},{\"arrowcolor\":\"blue\",\"arrowhead\":1,\"ax\":20,\"ay\":-30,\"font\":{\"size\":10},\"showarrow\":true,\"text\":\"Epoch: 4\\u003cbr\\u003eLoss: 0.0621\",\"x\":4,\"xref\":\"x\",\"y\":0.0621468484716709,\"yref\":\"y\"},{\"arrowcolor\":\"green\",\"arrowhead\":1,\"ax\":20,\"ay\":-30,\"font\":{\"size\":10},\"showarrow\":true,\"text\":\"Epoch: 4\\u003cbr\\u003eLoss: 0.6552\",\"x\":4,\"xref\":\"x\",\"y\":0.6552222324269158,\"yref\":\"y\"},{\"arrowcolor\":\"red\",\"arrowhead\":1,\"ax\":20,\"ay\":-30,\"font\":{\"size\":10},\"showarrow\":true,\"text\":\"Epoch: 4\\u003cbr\\u003eLoss: 0.0000\",\"x\":4,\"xref\":\"x2\",\"y\":3.4773202929859824e-06,\"yref\":\"y2\"},{\"arrowcolor\":\"orange\",\"arrowhead\":1,\"ax\":20,\"ay\":-30,\"font\":{\"size\":10},\"showarrow\":true,\"text\":\"Epoch: 4\\u003cbr\\u003eLoss: 20.4566\",\"x\":4,\"xref\":\"x2\",\"y\":20.45663501194545,\"yref\":\"y2\"},{\"arrowcolor\":\"blue\",\"arrowhead\":1,\"ax\":20,\"ay\":-30,\"font\":{\"size\":10},\"showarrow\":true,\"text\":\"Epoch: 5\\u003cbr\\u003eLoss: 0.0585\",\"x\":5,\"xref\":\"x\",\"y\":0.05847540697055485,\"yref\":\"y\"},{\"arrowcolor\":\"green\",\"arrowhead\":1,\"ax\":20,\"ay\":-30,\"font\":{\"size\":10},\"showarrow\":true,\"text\":\"Epoch: 5\\u003cbr\\u003eLoss: 0.5524\",\"x\":5,\"xref\":\"x\",\"y\":0.5523789490972246,\"yref\":\"y\"},{\"arrowcolor\":\"red\",\"arrowhead\":1,\"ax\":20,\"ay\":-30,\"font\":{\"size\":10},\"showarrow\":true,\"text\":\"Epoch: 5\\u003cbr\\u003eLoss: 0.0000\",\"x\":5,\"xref\":\"x2\",\"y\":2.226996466719737e-06,\"yref\":\"y2\"},{\"arrowcolor\":\"orange\",\"arrowhead\":1,\"ax\":20,\"ay\":-30,\"font\":{\"size\":10},\"showarrow\":true,\"text\":\"Epoch: 5\\u003cbr\\u003eLoss: 20.6973\",\"x\":5,\"xref\":\"x2\",\"y\":20.697312109810966,\"yref\":\"y2\"},{\"arrowcolor\":\"blue\",\"arrowhead\":1,\"ax\":20,\"ay\":-30,\"font\":{\"size\":10},\"showarrow\":true,\"text\":\"Epoch: 6\\u003cbr\\u003eLoss: 0.0349\",\"x\":6,\"xref\":\"x\",\"y\":0.034881574511767696,\"yref\":\"y\"},{\"arrowcolor\":\"green\",\"arrowhead\":1,\"ax\":20,\"ay\":-30,\"font\":{\"size\":10},\"showarrow\":true,\"text\":\"Epoch: 6\\u003cbr\\u003eLoss: 0.5970\",\"x\":6,\"xref\":\"x\",\"y\":0.5969556723322187,\"yref\":\"y\"},{\"arrowcolor\":\"red\",\"arrowhead\":1,\"ax\":20,\"ay\":-30,\"font\":{\"size\":10},\"showarrow\":true,\"text\":\"Epoch: 6\\u003cbr\\u003eLoss: 0.0000\",\"x\":6,\"xref\":\"x2\",\"y\":1.7959621567739346e-06,\"yref\":\"y2\"},{\"arrowcolor\":\"orange\",\"arrowhead\":1,\"ax\":20,\"ay\":-30,\"font\":{\"size\":10},\"showarrow\":true,\"text\":\"Epoch: 6\\u003cbr\\u003eLoss: 21.4346\",\"x\":6,\"xref\":\"x2\",\"y\":21.434550176348004,\"yref\":\"y2\"},{\"arrowcolor\":\"blue\",\"arrowhead\":1,\"ax\":20,\"ay\":-30,\"font\":{\"size\":10},\"showarrow\":true,\"text\":\"Epoch: 7\\u003cbr\\u003eLoss: 0.0336\",\"x\":7,\"xref\":\"x\",\"y\":0.033639315754579215,\"yref\":\"y\"},{\"arrowcolor\":\"green\",\"arrowhead\":1,\"ax\":20,\"ay\":-30,\"font\":{\"size\":10},\"showarrow\":true,\"text\":\"Epoch: 7\\u003cbr\\u003eLoss: 0.4863\",\"x\":7,\"xref\":\"x\",\"y\":0.4863405576774052,\"yref\":\"y\"},{\"arrowcolor\":\"red\",\"arrowhead\":1,\"ax\":20,\"ay\":-30,\"font\":{\"size\":10},\"showarrow\":true,\"text\":\"Epoch: 7\\u003cbr\\u003eLoss: 0.0000\",\"x\":7,\"xref\":\"x2\",\"y\":1.505725597167458e-06,\"yref\":\"y2\"},{\"arrowcolor\":\"orange\",\"arrowhead\":1,\"ax\":20,\"ay\":-30,\"font\":{\"size\":10},\"showarrow\":true,\"text\":\"Epoch: 7\\u003cbr\\u003eLoss: 22.9262\",\"x\":7,\"xref\":\"x2\",\"y\":22.926162937709265,\"yref\":\"y2\"},{\"arrowcolor\":\"blue\",\"arrowhead\":1,\"ax\":20,\"ay\":-30,\"font\":{\"size\":10},\"showarrow\":true,\"text\":\"Epoch: 8\\u003cbr\\u003eLoss: 0.0043\",\"x\":8,\"xref\":\"x\",\"y\":0.004288615992824335,\"yref\":\"y\"},{\"arrowcolor\":\"green\",\"arrowhead\":1,\"ax\":20,\"ay\":-30,\"font\":{\"size\":10},\"showarrow\":true,\"text\":\"Epoch: 8\\u003cbr\\u003eLoss: 0.5707\",\"x\":8,\"xref\":\"x\",\"y\":0.5707283922604152,\"yref\":\"y\"},{\"arrowcolor\":\"red\",\"arrowhead\":1,\"ax\":20,\"ay\":-30,\"font\":{\"size\":10},\"showarrow\":true,\"text\":\"Epoch: 8\\u003cbr\\u003eLoss: 0.0000\",\"x\":8,\"xref\":\"x2\",\"y\":1.327286456222113e-06,\"yref\":\"y2\"},{\"arrowcolor\":\"orange\",\"arrowhead\":1,\"ax\":20,\"ay\":-30,\"font\":{\"size\":10},\"showarrow\":true,\"text\":\"Epoch: 8\\u003cbr\\u003eLoss: 20.5230\",\"x\":8,\"xref\":\"x2\",\"y\":20.522957611083985,\"yref\":\"y2\"},{\"arrowcolor\":\"blue\",\"arrowhead\":1,\"ax\":20,\"ay\":-30,\"font\":{\"size\":10},\"showarrow\":true,\"text\":\"Epoch: 9\\u003cbr\\u003eLoss: 0.0033\",\"x\":9,\"xref\":\"x\",\"y\":0.0033351585899414633,\"yref\":\"y\"},{\"arrowcolor\":\"green\",\"arrowhead\":1,\"ax\":20,\"ay\":-30,\"font\":{\"size\":10},\"showarrow\":true,\"text\":\"Epoch: 9\\u003cbr\\u003eLoss: 0.6039\",\"x\":9,\"xref\":\"x\",\"y\":0.603880791578974,\"yref\":\"y\"},{\"arrowcolor\":\"red\",\"arrowhead\":1,\"ax\":20,\"ay\":-30,\"font\":{\"size\":10},\"showarrow\":true,\"text\":\"Epoch: 9\\u003cbr\\u003eLoss: 0.0000\",\"x\":9,\"xref\":\"x2\",\"y\":1.1692864565337766e-06,\"yref\":\"y2\"},{\"arrowcolor\":\"orange\",\"arrowhead\":1,\"ax\":20,\"ay\":-30,\"font\":{\"size\":10},\"showarrow\":true,\"text\":\"Epoch: 9\\u003cbr\\u003eLoss: 21.5547\",\"x\":9,\"xref\":\"x2\",\"y\":21.554661178588866,\"yref\":\"y2\"},{\"arrowcolor\":\"blue\",\"arrowhead\":1,\"ax\":20,\"ay\":-30,\"font\":{\"size\":10},\"showarrow\":true,\"text\":\"Epoch: 10\\u003cbr\\u003eLoss: 0.0088\",\"x\":10,\"xref\":\"x\",\"y\":0.008835552429766668,\"yref\":\"y\"},{\"arrowcolor\":\"green\",\"arrowhead\":1,\"ax\":20,\"ay\":-30,\"font\":{\"size\":10},\"showarrow\":true,\"text\":\"Epoch: 10\\u003cbr\\u003eLoss: 0.6224\",\"x\":10,\"xref\":\"x\",\"y\":0.6223685766969408,\"yref\":\"y\"},{\"arrowcolor\":\"red\",\"arrowhead\":1,\"ax\":20,\"ay\":-30,\"font\":{\"size\":10},\"showarrow\":true,\"text\":\"Epoch: 10\\u003cbr\\u003eLoss: 0.0000\",\"x\":10,\"xref\":\"x2\",\"y\":1.0801485124835212e-06,\"yref\":\"y2\"},{\"arrowcolor\":\"orange\",\"arrowhead\":1,\"ax\":20,\"ay\":-30,\"font\":{\"size\":10},\"showarrow\":true,\"text\":\"Epoch: 10\\u003cbr\\u003eLoss: 22.6945\",\"x\":10,\"xref\":\"x2\",\"y\":22.694471059526716,\"yref\":\"y2\"}],\"title\":{\"font\":{\"size\":24},\"text\":\"Avg. Cross Entropy Loss Comparison: Original vs. Fake Dataset\",\"x\":0.5},\"showlegend\":true,\"legend\":{\"font\":{\"size\":20}}},                        {\"responsive\": true}                    ).then(function(){\n",
              "                            \n",
              "var gd = document.getElementById('f783e834-3db0-4c4a-9454-7b6a1e0f36f8');\n",
              "var x = new MutationObserver(function (mutations, observer) {{\n",
              "        var display = window.getComputedStyle(gd).display;\n",
              "        if (!display || display === 'none') {{\n",
              "            console.log([gd, 'removed!']);\n",
              "            Plotly.purge(gd);\n",
              "            observer.disconnect();\n",
              "        }}\n",
              "}});\n",
              "\n",
              "// Listen for the removal of the full notebook cells\n",
              "var notebookContainer = gd.closest('#notebook-container');\n",
              "if (notebookContainer) {{\n",
              "    x.observe(notebookContainer, {childList: true});\n",
              "}}\n",
              "\n",
              "// Listen for the clearing of the current output cell\n",
              "var outputEl = gd.closest('.output');\n",
              "if (outputEl) {{\n",
              "    x.observe(outputEl, {childList: true});\n",
              "}}\n",
              "\n",
              "                        })                };                            </script>        </div>\n",
              "</body>\n",
              "</html>"
            ]
          },
          "metadata": {}
        }
      ]
    }
  ]
}